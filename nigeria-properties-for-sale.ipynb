{
 "cells": [
  {
   "cell_type": "code",
   "execution_count": 1,
   "metadata": {},
   "outputs": [],
   "source": [
    "import requests\n",
    "import json\n",
    "import pandas as pd\n",
    "import pickle\n",
    "import datetime\n",
    "import requests\n",
    "import json\n",
    "from bs4 import BeautifulSoup\n",
    "from collections import OrderedDict"
   ]
  },
  {
   "cell_type": "code",
   "execution_count": 2,
   "metadata": {},
   "outputs": [],
   "source": [
    "import copy"
   ]
  },
  {
   "cell_type": "code",
   "execution_count": 3,
   "metadata": {},
   "outputs": [],
   "source": [
    "website = 'https://nigeriapropertycentre.com/'"
   ]
  },
  {
   "cell_type": "code",
   "execution_count": 4,
   "metadata": {},
   "outputs": [
    {
     "name": "stdout",
     "output_type": "stream",
     "text": [
      "Error on Page 53\n",
      "Error on Page 161\n",
      "Error on Page 172\n",
      "Error on Page 294\n",
      "Error on Page 300\n",
      "Error on Page 301\n",
      "Error on Page 325\n",
      "Error on Page 430\n",
      "Error on Page 434\n",
      "Error on Page 444\n",
      "Error on Page 460\n",
      "Error on Page 503\n",
      "Error on Page 518\n",
      "Error on Page 520\n",
      "Error on Page 574\n",
      "Error on Page 595\n",
      "Error on Page 619\n",
      "Error on Page 668\n",
      "Error on Page 670\n",
      "Error on Page 690\n",
      "Error on Page 696\n",
      "Error on Page 702\n",
      "Error on Page 703\n",
      "Error on Page 723\n",
      "Error on Page 737\n",
      "Error on Page 740\n",
      "Error on Page 741\n",
      "Error on Page 746\n",
      "Error on Page 749\n",
      "Error on Page 750\n",
      "Error on Page 752\n",
      "Error on Page 761\n",
      "Error on Page 764\n",
      "Error on Page 768\n",
      "Error on Page 770\n",
      "Error on Page 774\n",
      "Error on Page 778\n",
      "Error on Page 781\n",
      "Error on Page 784\n",
      "Error on Page 790\n",
      "Error on Page 796\n",
      "Error on Page 803\n",
      "Error on Page 806\n",
      "Error on Page 808\n",
      "Error on Page 809\n",
      "Error on Page 810\n",
      "Error on Page 811\n",
      "Error on Page 812\n"
     ]
    }
   ],
   "source": [
    "full_df = pd.DataFrame()\n",
    "for page in range(1, 818):\n",
    "    try:\n",
    "        for_sale = f'{website}for-sale/land?page={page}'\n",
    "        for_sale_req = requests.get(for_sale)\n",
    "        soup = BeautifulSoup(for_sale_req.text, 'html.parser')\n",
    "\n",
    "        names = soup.find_all('h3', attrs={'itemprop':'name'})\n",
    "        name = [name.text for name in names]\n",
    "\n",
    "        titles = soup.find_all('h4', attrs={'class':'content-title'})\n",
    "        title = [title.text for title in titles]\n",
    "\n",
    "        addresses = soup.find_all('address')\n",
    "        address = [address.text for address in addresses]\n",
    "\n",
    "        descriptions = soup.find_all('div', attrs={'class':'description hidden-xs', 'itemprop':'description'})\n",
    "        description = [description.text for description in descriptions]\n",
    "\n",
    "        added_on = soup.find_all('span', attrs={'class':'added-on'})\n",
    "        added = [added.text for added in added_on]\n",
    "\n",
    "        prices = soup.find_all('span', attrs={'class':'price'})\n",
    "        price = [price for price in prices]\n",
    "        price = [price[x].text.replace(',', '') for x in range(len(price)) if x%2!=0]\n",
    "\n",
    "        periods = soup.find_all('span', attrs={'class':'period'})\n",
    "        period = [period.text for period in periods]\n",
    "\n",
    "        marketers = soup.find_all('span', attrs={'class':'marketed-by pull-right hidden-xs hidden-sm text-right'})\n",
    "        marketer = [marketer.text for marketer in marketers]\n",
    "\n",
    "        details = soup.find_all('div', attrs={'class':'wp-block-footer'})\n",
    "        detail = [detail.text for detail in details]\n",
    "\n",
    "        df_dict = {'name':name, 'Title':title, 'Address':address, 'Description':description, \n",
    "             'Date Added':added, 'Price':price, 'Period':period, 'Marketer':marketer, 'Details':detail}\n",
    "\n",
    "        df = pd.DataFrame(df_dict)\n",
    "\n",
    "        full_df = pd.concat([full_df, df], ignore_index=True)\n",
    "    except ValueError as E:\n",
    "        print(f'Error on Page {page}')\n",
    "        "
   ]
  },
  {
   "cell_type": "code",
   "execution_count": 5,
   "metadata": {},
   "outputs": [
    {
     "data": {
      "text/plain": [
       "(16149, 9)"
      ]
     },
     "execution_count": 5,
     "metadata": {},
     "output_type": "execute_result"
    }
   ],
   "source": [
    "full_df.shape"
   ]
  },
  {
   "cell_type": "code",
   "execution_count": 6,
   "metadata": {},
   "outputs": [],
   "source": [
    "full_df.to_csv('nigeria_property-a.csv', index=False)"
   ]
  },
  {
   "cell_type": "code",
   "execution_count": 7,
   "metadata": {},
   "outputs": [],
   "source": [
    "# soup.find('ul', attrs={'class':'pagination pagination-style-2 pagination-lg'}).text.split('\\n')"
   ]
  },
  {
   "cell_type": "code",
   "execution_count": 8,
   "metadata": {},
   "outputs": [],
   "source": [
    "#soup.find('li', attrs={'class':'pagination pagination-style-2 pagination-lg'})"
   ]
  }
 ],
 "metadata": {
  "kernelspec": {
   "display_name": "Python 3",
   "language": "python",
   "name": "python3"
  },
  "language_info": {
   "codemirror_mode": {
    "name": "ipython",
    "version": 3
   },
   "file_extension": ".py",
   "mimetype": "text/x-python",
   "name": "python",
   "nbconvert_exporter": "python",
   "pygments_lexer": "ipython3",
   "version": "3.7.6"
  }
 },
 "nbformat": 4,
 "nbformat_minor": 4
}
